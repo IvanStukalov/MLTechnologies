{
  "nbformat": 4,
  "nbformat_minor": 0,
  "metadata": {
    "colab": {
      "provenance": [],
      "authorship_tag": "ABX9TyO7iKN4IHRbvr2uVNd1I/l8",
      "include_colab_link": true
    },
    "kernelspec": {
      "name": "python3",
      "display_name": "Python 3"
    },
    "language_info": {
      "name": "python"
    }
  },
  "cells": [
    {
      "cell_type": "markdown",
      "metadata": {
        "id": "view-in-github",
        "colab_type": "text"
      },
      "source": [
        "<a href=\"https://colab.research.google.com/github/IvanStukalov/MLTechnologies/blob/lab_6/lab_6.ipynb\" target=\"_parent\"><img src=\"https://colab.research.google.com/assets/colab-badge.svg\" alt=\"Open In Colab\"/></a>"
      ]
    },
    {
      "cell_type": "markdown",
      "source": [
        "## Лабораторная работа 6. Ансамбли моделей машинного обучения. Часть 2."
      ],
      "metadata": {
        "id": "tXIHL3zpkOrL"
      }
    },
    {
      "cell_type": "code",
      "source": [
        "!pip install heamy"
      ],
      "metadata": {
        "id": "CwZalOUlrXUz"
      },
      "execution_count": null,
      "outputs": []
    },
    {
      "cell_type": "code",
      "source": [
        "from sklearn.datasets import load_wine, load_iris\n",
        "from sklearn.model_selection import train_test_split\n",
        "from heamy.estimator import Regressor, Classifier\n",
        "from heamy.pipeline import ModelsPipeline\n",
        "from heamy.dataset import Dataset\n",
        "from sklearn.tree import DecisionTreeClassifier, DecisionTreeRegressor, export_graphviz\n",
        "from sklearn.linear_model import LinearRegression\n",
        "from sklearn.ensemble import RandomForestClassifier, RandomForestRegressor\n",
        "from sklearn.metrics import mean_absolute_error, mean_squared_error, mean_squared_log_error, median_absolute_error, r2_score\n"
      ],
      "metadata": {
        "id": "2RcGw7zjkOdA"
      },
      "execution_count": 53,
      "outputs": []
    },
    {
      "cell_type": "markdown",
      "source": [],
      "metadata": {
        "id": "dY_MW8_jkV8h"
      }
    },
    {
      "cell_type": "markdown",
      "source": [
        "### Выберите набор данных (датасет) для решения задачи классификации или регресии."
      ],
      "metadata": {
        "id": "6RBiwFUgp6YO"
      }
    },
    {
      "cell_type": "code",
      "execution_count": 39,
      "metadata": {
        "id": "lfeG2IHVkKWV"
      },
      "outputs": [],
      "source": [
        "# Используем датасет wine\n",
        "wine = load_wine()\n",
        "wine_X = wine.data\n",
        "wine_y = wine.target"
      ]
    },
    {
      "cell_type": "markdown",
      "source": [
        "### С использованием метода train_test_split разделите выборку на обучающую и тестовую."
      ],
      "metadata": {
        "id": "b2EC0t6BqYmf"
      }
    },
    {
      "cell_type": "code",
      "source": [
        "wine_X_train, wine_X_test, wine_y_train, wine_y_test = train_test_split(\n",
        "    wine_X, wine_y, test_size=0.2, random_state=1)"
      ],
      "metadata": {
        "id": "hOTyFAF0qBoj"
      },
      "execution_count": 40,
      "outputs": []
    },
    {
      "cell_type": "markdown",
      "source": [
        "### Стекинг"
      ],
      "metadata": {
        "id": "ZKFCUrPyqvKP"
      }
    },
    {
      "cell_type": "code",
      "source": [
        "# Используем библиотеку heamy\n",
        "# набор данных\n",
        "dataset = Dataset(wine_X_train, wine_y_train, wine_X_test)\n",
        "\n",
        "# модели первого уровня\n",
        "model_tree = Regressor(dataset=dataset, estimator=DecisionTreeRegressor, name='tree')\n",
        "model_lr = Regressor(dataset=dataset, estimator=LinearRegression, name='lr')\n",
        "model_rf = Regressor(dataset=dataset, estimator=RandomForestRegressor, parameters={'n_estimators': 50}, name='rf')"
      ],
      "metadata": {
        "id": "D8gltT4QqGl1"
      },
      "execution_count": 46,
      "outputs": []
    },
    {
      "cell_type": "code",
      "source": [
        "# Эксперимент 1\n",
        "# Первый уровень - две модели: дерево и линейная регрессия\n",
        "# Второй уровень: линейная регрессия\n",
        "\n",
        "pipeline = ModelsPipeline(model_tree, model_lr)\n",
        "stack_ds = pipeline.stack(k=10, seed=1)\n",
        "# модель второго уровня\n",
        "stacker = Regressor(dataset=stack_ds, estimator=LinearRegression)\n",
        "results = stacker.validate(k=10,scorer=mean_absolute_error)"
      ],
      "metadata": {
        "colab": {
          "base_uri": "https://localhost:8080/"
        },
        "id": "_HPL1UEqrcuo",
        "outputId": "c76f17e2-71cd-454b-87d7-b81958ebaa74"
      },
      "execution_count": 47,
      "outputs": [
        {
          "output_type": "stream",
          "name": "stdout",
          "text": [
            "Metric: mean_absolute_error\n",
            "Folds accuracy: [0.1449944828491955, 0.2367813603542328, 0.16366879153700514, 0.1734374337213063, 0.22276475695752668, 0.18507815651883502, 0.3385973871111662, 0.1327745371838229, 0.15668457067108263, 0.22931197617907678]\n",
            "Mean accuracy: 0.198409345308325\n",
            "Standard Deviation: 0.057951283593480486\n",
            "Variance: 0.0033583512701320004\n"
          ]
        }
      ]
    },
    {
      "cell_type": "markdown",
      "source": [
        "### модель многослойного персептрона"
      ],
      "metadata": {
        "id": "pU_wBxpyqard"
      }
    },
    {
      "cell_type": "code",
      "source": [
        "from sklearn.datasets import make_classification\n",
        "from sklearn.model_selection import train_test_split\n",
        "from sklearn.neural_network import MLPClassifier\n",
        "from sklearn.metrics import accuracy_score\n",
        "\n",
        "# Создание датасета\n",
        "# X, y = make_classification(n_samples=1000, n_features=20, n_informative=15, n_redundant=5, random_state=42)\n",
        "\n",
        "# Разделение данных на обучающую и тестовую выборки\n",
        "# X_train, X_test, y_train, y_test = train_test_split(X, y, test_size=0.2, random_state=42)\n",
        "\n",
        "# Определение параметров MLP\n",
        "mlp_params = {\n",
        "    'hidden_layer_sizes': (50, 50), # Количество нейронов в скрытых слоях\n",
        "    'activation': 'relu', # Функция активации\n",
        "    'solver': 'adam', # Оптимизатор\n",
        "    'alpha': 0.0001, # Коэффициент регуляризации L2\n",
        "    'learning_rate': 'constant', # Стратегия изменения скорости обучения\n",
        "    'learning_rate_init': 0.001, # Начальная скорость обучения\n",
        "    'max_iter': 200, # Максимальное количество итераций\n",
        "    'random_state': 42, # Случайное состояние для воспроизводимости\n",
        "}\n",
        "\n",
        "# Создание и обучение MLP\n",
        "mlp = MLPClassifier(**mlp_params)\n",
        "mlp.fit(wine_X_train, wine_y_train)\n",
        "\n",
        "# Предсказание на тестовом наборе данных\n",
        "y_pred = mlp.predict(wine_X_test)\n",
        "\n",
        "# Оценка качества модели\n",
        "accuracy = accuracy_score(wine_y_test, y_pred)\n",
        "print(f'Accuracy: {accuracy}')\n"
      ],
      "metadata": {
        "colab": {
          "base_uri": "https://localhost:8080/"
        },
        "id": "O733PYuqw1PX",
        "outputId": "9b7661b3-aebd-4bca-d229-e85c6d4d4a24"
      },
      "execution_count": 57,
      "outputs": [
        {
          "output_type": "stream",
          "name": "stdout",
          "text": [
            "Accuracy: 0.8611111111111112\n"
          ]
        },
        {
          "output_type": "stream",
          "name": "stderr",
          "text": [
            "/usr/local/lib/python3.10/dist-packages/sklearn/neural_network/_multilayer_perceptron.py:686: ConvergenceWarning: Stochastic Optimizer: Maximum iterations (200) reached and the optimization hasn't converged yet.\n",
            "  warnings.warn(\n"
          ]
        }
      ]
    },
    {
      "cell_type": "markdown",
      "source": [
        "### МГУА"
      ],
      "metadata": {
        "id": "64FhzBB3zCQB"
      }
    },
    {
      "cell_type": "code",
      "source": [
        "from gmdhpy import gmdh"
      ],
      "metadata": {
        "colab": {
          "base_uri": "https://localhost:8080/"
        },
        "id": "ROGs3U_3zEAy",
        "outputId": "caa7b166-5a9e-46c8-ec61-bbbc4cc429cf"
      },
      "execution_count": 70,
      "outputs": [
        {
          "output_type": "stream",
          "name": "stdout",
          "text": [
            "\u001b[31mERROR: Invalid requirement: 'git+git@github.com:kvoyager/GmdhPy.git'\n",
            "Hint: It looks like a path. File 'git+git@github.com:kvoyager/GmdhPy.git' does not exist.\u001b[0m\u001b[31m\n",
            "\u001b[0m"
          ]
        }
      ]
    },
    {
      "cell_type": "code",
      "source": [
        "model = gmdh.Regressor()\n",
        "model.fit(wine_X_train, wine_y_train)\n",
        "y_pred = model.predict(wine_X_test)\n",
        "result = mean_absolute_error(wine_y_test, y_pred)\n",
        "print(model)\n",
        "print('MAE={}'.format(result))"
      ],
      "metadata": {
        "colab": {
          "base_uri": "https://localhost:8080/",
          "height": 211
        },
        "id": "OegC-RRrzIVD",
        "outputId": "9f3b6162-d104-44b0-d414-cb4e93d6ea93"
      },
      "execution_count": 65,
      "outputs": [
        {
          "output_type": "error",
          "ename": "AttributeError",
          "evalue": "module 'gmdhpy.gmdh' has no attribute 'Regressor'",
          "traceback": [
            "\u001b[0;31m---------------------------------------------------------------------------\u001b[0m",
            "\u001b[0;31mAttributeError\u001b[0m                            Traceback (most recent call last)",
            "\u001b[0;32m<ipython-input-65-e40f630ea6fb>\u001b[0m in \u001b[0;36m<cell line: 1>\u001b[0;34m()\u001b[0m\n\u001b[0;32m----> 1\u001b[0;31m \u001b[0mmodel\u001b[0m \u001b[0;34m=\u001b[0m \u001b[0mgmdh\u001b[0m\u001b[0;34m.\u001b[0m\u001b[0mRegressor\u001b[0m\u001b[0;34m(\u001b[0m\u001b[0;34m)\u001b[0m\u001b[0;34m\u001b[0m\u001b[0;34m\u001b[0m\u001b[0m\n\u001b[0m\u001b[1;32m      2\u001b[0m \u001b[0mmodel\u001b[0m\u001b[0;34m.\u001b[0m\u001b[0mfit\u001b[0m\u001b[0;34m(\u001b[0m\u001b[0mwine_X_train\u001b[0m\u001b[0;34m,\u001b[0m \u001b[0mwine_y_train\u001b[0m\u001b[0;34m)\u001b[0m\u001b[0;34m\u001b[0m\u001b[0;34m\u001b[0m\u001b[0m\n\u001b[1;32m      3\u001b[0m \u001b[0my_pred\u001b[0m \u001b[0;34m=\u001b[0m \u001b[0mmodel\u001b[0m\u001b[0;34m.\u001b[0m\u001b[0mpredict\u001b[0m\u001b[0;34m(\u001b[0m\u001b[0mwine_X_test\u001b[0m\u001b[0;34m)\u001b[0m\u001b[0;34m\u001b[0m\u001b[0;34m\u001b[0m\u001b[0m\n\u001b[1;32m      4\u001b[0m \u001b[0mresult\u001b[0m \u001b[0;34m=\u001b[0m \u001b[0mmean_absolute_error\u001b[0m\u001b[0;34m(\u001b[0m\u001b[0mwine_y_test\u001b[0m\u001b[0;34m,\u001b[0m \u001b[0my_pred\u001b[0m\u001b[0;34m)\u001b[0m\u001b[0;34m\u001b[0m\u001b[0;34m\u001b[0m\u001b[0m\n\u001b[1;32m      5\u001b[0m \u001b[0mprint\u001b[0m\u001b[0;34m(\u001b[0m\u001b[0mmodel\u001b[0m\u001b[0;34m)\u001b[0m\u001b[0;34m\u001b[0m\u001b[0;34m\u001b[0m\u001b[0m\n",
            "\u001b[0;31mAttributeError\u001b[0m: module 'gmdhpy.gmdh' has no attribute 'Regressor'"
          ]
        }
      ]
    },
    {
      "cell_type": "code",
      "source": [],
      "metadata": {
        "id": "_NkM48qX3rLf"
      },
      "execution_count": null,
      "outputs": []
    }
  ]
}