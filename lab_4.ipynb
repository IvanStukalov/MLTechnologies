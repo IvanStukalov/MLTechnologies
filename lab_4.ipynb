{
  "nbformat": 4,
  "nbformat_minor": 0,
  "metadata": {
    "colab": {
      "provenance": [],
      "authorship_tag": "ABX9TyPPM8LGnEKV33jjAM5IFrR/",
      "include_colab_link": true
    },
    "kernelspec": {
      "name": "python3",
      "display_name": "Python 3"
    },
    "language_info": {
      "name": "python"
    }
  },
  "cells": [
    {
      "cell_type": "markdown",
      "metadata": {
        "id": "view-in-github",
        "colab_type": "text"
      },
      "source": [
        "<a href=\"https://colab.research.google.com/github/IvanStukalov/MLTechnologies/blob/lab_4/lab_4.ipynb\" target=\"_parent\"><img src=\"https://colab.research.google.com/assets/colab-badge.svg\" alt=\"Open In Colab\"/></a>"
      ]
    },
    {
      "cell_type": "markdown",
      "source": [
        "# Линейные модели, SVM и деревья решений."
      ],
      "metadata": {
        "id": "san6HUl2TA1y"
      }
    },
    {
      "cell_type": "markdown",
      "source": [
        "### Выберите набор данных (датасет) для решения задачи классификации или регрессии."
      ],
      "metadata": {
        "id": "wPOEEk-8TOrf"
      }
    },
    {
      "cell_type": "code",
      "execution_count": null,
      "metadata": {
        "id": "jLfbwST-S9FF"
      },
      "outputs": [],
      "source": []
    }
  ]
}