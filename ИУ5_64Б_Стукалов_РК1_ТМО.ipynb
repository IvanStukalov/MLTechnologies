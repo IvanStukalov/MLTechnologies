{
  "nbformat": 4,
  "nbformat_minor": 0,
  "metadata": {
    "colab": {
      "provenance": [],
      "authorship_tag": "ABX9TyMQlq0BwcYtfDrAQOITw3qy",
      "include_colab_link": true
    },
    "kernelspec": {
      "name": "python3",
      "display_name": "Python 3"
    },
    "language_info": {
      "name": "python"
    }
  },
  "cells": [
    {
      "cell_type": "markdown",
      "metadata": {
        "id": "view-in-github",
        "colab_type": "text"
      },
      "source": [
        "<a href=\"https://colab.research.google.com/github/IvanStukalov/MLTechnologies/blob/rk-1/%D0%98%D0%A35_64%D0%91_%D0%A1%D1%82%D1%83%D0%BA%D0%B0%D0%BB%D0%BE%D0%B2_%D0%A0%D0%9A1_%D0%A2%D0%9C%D0%9E.ipynb\" target=\"_parent\"><img src=\"https://colab.research.google.com/assets/colab-badge.svg\" alt=\"Open In Colab\"/></a>"
      ]
    },
    {
      "cell_type": "markdown",
      "source": [
        "# ИУ5-64Б Стукалов РК1 ТМО\n",
        "\n",
        "## Вариант 15\n",
        "\n",
        "## Задача 2\n",
        "\n",
        "## [Датасет 7](https://www.kaggle.com/lava18/google-play-store-apps)\n"
      ],
      "metadata": {
        "id": "xNYpW0i3kjcQ"
      }
    },
    {
      "cell_type": "code",
      "execution_count": 2,
      "metadata": {
        "id": "Kfv-_iWzkdfL"
      },
      "outputs": [],
      "source": [
        "import pandas as pd\n",
        "\n",
        "# Загрузка данных\n",
        "data = pd.read_csv('googleplaystore.csv')"
      ]
    },
    {
      "cell_type": "markdown",
      "source": [
        "Замена пропусков категориального признака"
      ],
      "metadata": {
        "id": "Pm8Jsq6dugSe"
      }
    },
    {
      "cell_type": "code",
      "source": [
        "# Замена пропусков на наиболее часто встречающееся значение\n",
        "data['Category'].fillna(data['Category'].mode()[0], inplace=True)\n",
        "\n",
        "# Или замена на произвольное значение\n",
        "data['Category'].fillna('Unknown', inplace=True)\n"
      ],
      "metadata": {
        "id": "RJTjKyKto99t"
      },
      "execution_count": 18,
      "outputs": []
    },
    {
      "cell_type": "markdown",
      "source": [
        "Замена пропусков количественного признака"
      ],
      "metadata": {
        "id": "_VROqxcJup8J"
      }
    },
    {
      "cell_type": "code",
      "source": [
        "# Замена пропусков на среднее значение\n",
        "data['Rating'].fillna(data['Rating'].mean(), inplace=True)\n",
        "\n",
        "# Или замена на медиану\n",
        "data['Rating'].fillna(data['Rating'].median(), inplace=True)"
      ],
      "metadata": {
        "id": "3TRltJu8pC4c"
      },
      "execution_count": 19,
      "outputs": []
    },
    {
      "cell_type": "markdown",
      "source": [
        "При выборе признаков для дальнейшего построения моделей машинного обучения, стоит учитывать:\n",
        "\n",
        "Важность признака: Признаки, которые имеют большое значение для предсказания целевой переменной, должны быть включены в модель.\n",
        "\n",
        "Статистические свойства: Признаки с нормальным распределением или с минимальным количеством выбросов могут быть более предпочтительными.\n",
        "\n",
        "Корреляция с целевой переменной: Признаки, которые сильно коррелируют с целевой переменной, могут улучшить качество модели."
      ],
      "metadata": {
        "id": "UuY64rncpMy4"
      }
    },
    {
      "cell_type": "code",
      "source": [
        "# Вычисление корреляции между признаками и целевой переменной\n",
        "correlation = data.corr(numeric_only=True)['Rating']\n",
        "print(correlation)\n"
      ],
      "metadata": {
        "colab": {
          "base_uri": "https://localhost:8080/"
        },
        "id": "AU02vqRPpNvL",
        "outputId": "47c7d2b3-1682-48c6-b496-58439c346111"
      },
      "execution_count": 38,
      "outputs": [
        {
          "output_type": "stream",
          "name": "stdout",
          "text": [
            "Rating                          1.000000\n",
            "Category_1.9                    0.284693\n",
            "Category_ART_AND_DESIGN         0.024429\n",
            "Category_AUTO_AND_VEHICLES     -0.000447\n",
            "Category_BEAUTY                 0.009477\n",
            "Category_BOOKS_AND_REFERENCE    0.034763\n",
            "Category_BUSINESS              -0.019954\n",
            "Category_COMICS                -0.005510\n",
            "Category_COMMUNICATION         -0.011361\n",
            "Category_DATING                -0.055148\n",
            "Category_EDUCATION              0.047032\n",
            "Category_ENTERTAINMENT         -0.015872\n",
            "Category_EVENTS                 0.026273\n",
            "Category_FAMILY                -0.000891\n",
            "Category_FINANCE               -0.020293\n",
            "Category_FOOD_AND_DRINK        -0.004932\n",
            "Category_GAME                   0.061311\n",
            "Category_HEALTH_AND_FITNESS     0.026320\n",
            "Category_HOUSE_AND_HOME         0.000630\n",
            "Category_LIBRARIES_AND_DEMO    -0.002025\n",
            "Category_LIFESTYLE             -0.030955\n",
            "Category_MAPS_AND_NAVIGATION   -0.029052\n",
            "Category_MEDICAL               -0.001341\n",
            "Category_NEWS_AND_MAGAZINES    -0.016501\n",
            "Category_PARENTING              0.013274\n",
            "Category_PERSONALIZATION        0.044305\n",
            "Category_PHOTOGRAPHY           -0.000414\n",
            "Category_PRODUCTIVITY           0.006037\n",
            "Category_SHOPPING               0.019052\n",
            "Category_SOCIAL                 0.018302\n",
            "Category_SPORTS                 0.009615\n",
            "Category_TOOLS                 -0.073858\n",
            "Category_TRAVEL_AND_LOCAL      -0.023012\n",
            "Category_VIDEO_PLAYERS         -0.030381\n",
            "Category_WEATHER                0.008098\n",
            "Name: Rating, dtype: float64\n"
          ]
        }
      ]
    },
    {
      "cell_type": "markdown",
      "source": [
        "## Скрипичная диаграмма для колонки Rating"
      ],
      "metadata": {
        "id": "qCXYw_-xuU-n"
      }
    },
    {
      "cell_type": "code",
      "source": [
        "import seaborn as sns\n",
        "import matplotlib.pyplot as plt\n",
        "# Установка стиля графика\n",
        "sns.set(style=\"whitegrid\")\n",
        "\n",
        "# Построение скрипичной диаграммы для колонки \"Rating\"\n",
        "sns.violinplot(x=\"Rating\", data=data)\n",
        "\n",
        "# Показать график\n",
        "plt.show()\n"
      ],
      "metadata": {
        "colab": {
          "base_uri": "https://localhost:8080/",
          "height": 458
        },
        "id": "HQCq7Xkhpowv",
        "outputId": "757b3282-f727-4a5a-f0f8-19c8d4402a65"
      },
      "execution_count": 40,
      "outputs": [
        {
          "output_type": "display_data",
          "data": {
            "text/plain": [
              "<Figure size 640x480 with 1 Axes>"
            ],
            "image/png": "[encoded data removed]"
          },
          "metadata": {}
        }
      ]
    }
  ]
}